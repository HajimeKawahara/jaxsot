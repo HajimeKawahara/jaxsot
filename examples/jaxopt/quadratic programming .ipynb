{
 "cells": [
  {
   "cell_type": "code",
   "execution_count": 1,
   "id": "84c8389c",
   "metadata": {},
   "outputs": [],
   "source": [
    "#QP is used to optimize SOU"
   ]
  },
  {
   "cell_type": "code",
   "execution_count": 2,
   "id": "f467b616",
   "metadata": {},
   "outputs": [],
   "source": [
    "## See https://jaxopt.github.io/stable/quadratic_programming.html\n",
    "\n",
    "## non-negative QP using Box-constrained QPs\n",
    "# jaxopt>=0.3.1"
   ]
  },
  {
   "cell_type": "code",
   "execution_count": 3,
   "id": "a8bea74f",
   "metadata": {},
   "outputs": [
    {
     "name": "stdout",
     "output_type": "stream",
     "text": [
      "(DeviceArray([0.25004143, 0.7500388 ], dtype=float32), DeviceArray([ 1.        , -0.25003824, -0.75000846], dtype=float32))\n",
      "[-2.7502573e+00  0.0000000e+00  3.0822962e-09]\n",
      "(DeviceArray([0.0000000e+00, 0.0000000e+00, 3.0822962e-09], dtype=float32), DeviceArray([ 2.7502573, -0.       ,  0.       ], dtype=float32))\n"
     ]
    }
   ],
   "source": [
    "import jax.numpy as jnp\n",
    "from jaxopt import BoxOSQP\n",
    "\n",
    "Q = 2 * jnp.array([[2.0, 0.5], [0.5, 1]])\n",
    "c = jnp.array([1.0, 1.0])\n",
    "A = jnp.array([[1.0, 1.0], [-1.0, 0.0], [0.0, -1.0]])\n",
    "l = jnp.array([1.0, -jnp.inf, -jnp.inf])\n",
    "u = jnp.array([1.0, 0.0, 0.0])\n",
    "\n",
    "qp = BoxOSQP()\n",
    "sol = qp.run(params_obj=(Q, c), params_eq=A, params_ineq=(l, u)).params\n",
    "\n",
    "print(sol.primal)\n",
    "print(sol.dual_eq)\n",
    "print(sol.dual_ineq)"
   ]
  },
  {
   "cell_type": "code",
   "execution_count": null,
   "id": "aa35eb65",
   "metadata": {},
   "outputs": [],
   "source": []
  }
 ],
 "metadata": {
  "kernelspec": {
   "display_name": "Python 3 (ipykernel)",
   "language": "python",
   "name": "python3"
  },
  "language_info": {
   "codemirror_mode": {
    "name": "ipython",
    "version": 3
   },
   "file_extension": ".py",
   "mimetype": "text/x-python",
   "name": "python",
   "nbconvert_exporter": "python",
   "pygments_lexer": "ipython3",
   "version": "3.8.8"
  }
 },
 "nbformat": 4,
 "nbformat_minor": 5
}
