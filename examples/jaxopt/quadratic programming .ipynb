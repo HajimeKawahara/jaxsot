{
 "cells": [
  {
   "cell_type": "code",
   "execution_count": 1,
   "id": "84c8389c",
   "metadata": {},
   "outputs": [],
   "source": [
    "#QP is used to optimize SOU"
   ]
  },
  {
   "cell_type": "code",
   "execution_count": 2,
   "id": "f467b616",
   "metadata": {},
   "outputs": [],
   "source": [
    "## See https://jaxopt.github.io/stable/quadratic_programming.html\n",
    "\n",
    "## non-negative QP using Box-constrained QPs"
   ]
  },
  {
   "cell_type": "code",
   "execution_count": 4,
   "id": "a8bea74f",
   "metadata": {},
   "outputs": [
    {
     "ename": "TypeError",
     "evalue": "run() missing 1 required positional argument: 'init_params'",
     "output_type": "error",
     "traceback": [
      "\u001b[0;31m---------------------------------------------------------------------------\u001b[0m",
      "\u001b[0;31mTypeError\u001b[0m                                 Traceback (most recent call last)",
      "\u001b[0;32m/tmp/ipykernel_11430/875702596.py\u001b[0m in \u001b[0;36m<module>\u001b[0;34m\u001b[0m\n\u001b[1;32m      9\u001b[0m \u001b[0;34m\u001b[0m\u001b[0m\n\u001b[1;32m     10\u001b[0m \u001b[0mqp\u001b[0m \u001b[0;34m=\u001b[0m \u001b[0mBoxOSQP\u001b[0m\u001b[0;34m(\u001b[0m\u001b[0;34m)\u001b[0m\u001b[0;34m\u001b[0m\u001b[0;34m\u001b[0m\u001b[0m\n\u001b[0;32m---> 11\u001b[0;31m \u001b[0msol\u001b[0m \u001b[0;34m=\u001b[0m \u001b[0mqp\u001b[0m\u001b[0;34m.\u001b[0m\u001b[0mrun\u001b[0m\u001b[0;34m(\u001b[0m\u001b[0mparams_obj\u001b[0m\u001b[0;34m=\u001b[0m\u001b[0;34m(\u001b[0m\u001b[0mQ\u001b[0m\u001b[0;34m,\u001b[0m \u001b[0mc\u001b[0m\u001b[0;34m)\u001b[0m\u001b[0;34m,\u001b[0m \u001b[0mparams_eq\u001b[0m\u001b[0;34m=\u001b[0m\u001b[0mA\u001b[0m\u001b[0;34m,\u001b[0m \u001b[0mparams_ineq\u001b[0m\u001b[0;34m=\u001b[0m\u001b[0;34m(\u001b[0m\u001b[0ml\u001b[0m\u001b[0;34m,\u001b[0m \u001b[0mu\u001b[0m\u001b[0;34m)\u001b[0m\u001b[0;34m)\u001b[0m\u001b[0;34m.\u001b[0m\u001b[0mparams\u001b[0m\u001b[0;34m\u001b[0m\u001b[0;34m\u001b[0m\u001b[0m\n\u001b[0m\u001b[1;32m     12\u001b[0m \u001b[0;34m\u001b[0m\u001b[0m\n\u001b[1;32m     13\u001b[0m \u001b[0mprint\u001b[0m\u001b[0;34m(\u001b[0m\u001b[0msol\u001b[0m\u001b[0;34m.\u001b[0m\u001b[0mprimal\u001b[0m\u001b[0;34m)\u001b[0m\u001b[0;34m\u001b[0m\u001b[0;34m\u001b[0m\u001b[0m\n",
      "\u001b[0;31mTypeError\u001b[0m: run() missing 1 required positional argument: 'init_params'"
     ]
    }
   ],
   "source": [
    "import jax.numpy as jnp\n",
    "from jaxopt import BoxOSQP\n",
    "\n",
    "Q = 2 * jnp.array([[2.0, 0.5], [0.5, 1]])\n",
    "c = jnp.array([1.0, 1.0])\n",
    "A = jnp.array([[1.0, 1.0], [-1.0, 0.0], [0.0, -1.0]])\n",
    "l = jnp.array([1.0, -jnp.inf, -jnp.inf])\n",
    "u = jnp.array([1.0, 0.0, 0.0])\n",
    "\n",
    "qp = BoxOSQP()\n",
    "sol = qp.run(params_obj=(Q, c), params_eq=A, params_ineq=(l, u)).params\n",
    "\n",
    "print(sol.primal)\n",
    "print(sol.dual_eq)\n",
    "print(sol.dual_ineq)"
   ]
  },
  {
   "cell_type": "code",
   "execution_count": 3,
   "id": "bc02ad87",
   "metadata": {},
   "outputs": [
    {
     "name": "stdout",
     "output_type": "stream",
     "text": [
      "(DeviceArray([0.25004143, 0.7500388 ], dtype=float32), DeviceArray([ 1.        , -0.25003824, -0.75000846], dtype=float32))\n",
      "[-2.7502573e+00  0.0000000e+00  3.0822962e-09]\n",
      "(DeviceArray([0.0000000e+00, 0.0000000e+00, 3.0822962e-09], dtype=float32), DeviceArray([ 2.7502573, -0.       ,  0.       ], dtype=float32))\n"
     ]
    }
   ],
   "source": [
    "import jax.numpy as jnp\n",
    "from jaxopt import BoxOSQP\n",
    "\n",
    "Q = 2 * jnp.array([[2.0, 0.5], [0.5, 1]])\n",
    "c = jnp.array([1.0, 1.0])\n",
    "A = jnp.array([[1.0, 1.0], [-1.0, 0.0], [0.0, -1.0]])\n",
    "l = jnp.array([1.0, -jnp.inf, -jnp.inf])\n",
    "u = jnp.array([1.0, 0.0, 0.0])\n",
    "\n",
    "qp = BoxOSQP()\n",
    "sol = qp.run(init_params=None,params_obj=(Q, c), params_eq=A, params_ineq=(l, u)).params\n",
    "\n",
    "print(sol.primal)\n",
    "print(sol.dual_eq)\n",
    "print(sol.dual_ineq)"
   ]
  },
  {
   "cell_type": "code",
   "execution_count": 2,
   "id": "3f6e6b14",
   "metadata": {},
   "outputs": [
    {
     "ename": "NameError",
     "evalue": "name 'CvxpyWrapper' is not defined",
     "output_type": "error",
     "traceback": [
      "\u001b[0;31m---------------------------------------------------------------------------\u001b[0m",
      "\u001b[0;31mNameError\u001b[0m                                 Traceback (most recent call last)",
      "\u001b[0;32m/tmp/ipykernel_11430/3312350697.py\u001b[0m in \u001b[0;36m<module>\u001b[0;34m\u001b[0m\n\u001b[1;32m      8\u001b[0m \u001b[0mh\u001b[0m \u001b[0;34m=\u001b[0m \u001b[0mjnp\u001b[0m\u001b[0;34m.\u001b[0m\u001b[0marray\u001b[0m\u001b[0;34m(\u001b[0m\u001b[0;34m[\u001b[0m\u001b[0;36m0.0\u001b[0m\u001b[0;34m,\u001b[0m \u001b[0;36m0.0\u001b[0m\u001b[0;34m]\u001b[0m\u001b[0;34m)\u001b[0m\u001b[0;34m\u001b[0m\u001b[0;34m\u001b[0m\u001b[0m\n\u001b[1;32m      9\u001b[0m \u001b[0;34m\u001b[0m\u001b[0m\n\u001b[0;32m---> 10\u001b[0;31m \u001b[0mqp\u001b[0m \u001b[0;34m=\u001b[0m \u001b[0mCvxpyWrapper\u001b[0m\u001b[0;34m(\u001b[0m\u001b[0;34m)\u001b[0m\u001b[0;34m\u001b[0m\u001b[0;34m\u001b[0m\u001b[0m\n\u001b[0m\u001b[1;32m     11\u001b[0m \u001b[0msol\u001b[0m \u001b[0;34m=\u001b[0m \u001b[0mqp\u001b[0m\u001b[0;34m.\u001b[0m\u001b[0mrun\u001b[0m\u001b[0;34m(\u001b[0m\u001b[0mparams_obj\u001b[0m\u001b[0;34m=\u001b[0m\u001b[0;34m(\u001b[0m\u001b[0mQ\u001b[0m\u001b[0;34m,\u001b[0m \u001b[0mc\u001b[0m\u001b[0;34m)\u001b[0m\u001b[0;34m,\u001b[0m \u001b[0mparams_eq\u001b[0m\u001b[0;34m=\u001b[0m\u001b[0;34m(\u001b[0m\u001b[0mA\u001b[0m\u001b[0;34m,\u001b[0m \u001b[0mb\u001b[0m\u001b[0;34m)\u001b[0m\u001b[0;34m,\u001b[0m \u001b[0mparams_ineq\u001b[0m\u001b[0;34m=\u001b[0m\u001b[0;34m(\u001b[0m\u001b[0mG\u001b[0m\u001b[0;34m,\u001b[0m \u001b[0mh\u001b[0m\u001b[0;34m)\u001b[0m\u001b[0;34m)\u001b[0m\u001b[0;34m.\u001b[0m\u001b[0mparams\u001b[0m\u001b[0;34m\u001b[0m\u001b[0;34m\u001b[0m\u001b[0m\n\u001b[1;32m     12\u001b[0m \u001b[0;34m\u001b[0m\u001b[0m\n",
      "\u001b[0;31mNameError\u001b[0m: name 'CvxpyWrapper' is not defined"
     ]
    }
   ],
   "source": [
    "from jaxopt import CvxpyQP\n",
    "\n",
    "Q = 2 * jnp.array([[2.0, 0.5], [0.5, 1]])\n",
    "c = jnp.array([1.0, 1.0])\n",
    "A = jnp.array([[1.0, 1.0]])\n",
    "b = jnp.array([1.0])\n",
    "G = jnp.array([[-1.0, 0.0], [0.0, -1.0]])\n",
    "h = jnp.array([0.0, 0.0])\n",
    "\n",
    "qp = CvxpyWrapper()\n",
    "sol = qp.run(params_obj=(Q, c), params_eq=(A, b), params_ineq=(G, h)).params\n",
    "\n",
    "print(sol.primal)\n",
    "print(sol.dual_eq)\n",
    "print(sol.dual_ineq)"
   ]
  },
  {
   "cell_type": "code",
   "execution_count": null,
   "id": "aa35eb65",
   "metadata": {},
   "outputs": [],
   "source": []
  }
 ],
 "metadata": {
  "kernelspec": {
   "display_name": "Python 3 (ipykernel)",
   "language": "python",
   "name": "python3"
  },
  "language_info": {
   "codemirror_mode": {
    "name": "ipython",
    "version": 3
   },
   "file_extension": ".py",
   "mimetype": "text/x-python",
   "name": "python",
   "nbconvert_exporter": "python",
   "pygments_lexer": "ipython3",
   "version": "3.8.8"
  }
 },
 "nbformat": 4,
 "nbformat_minor": 5
}
